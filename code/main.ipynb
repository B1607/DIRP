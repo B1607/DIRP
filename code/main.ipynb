{
 "cells": [
  {
   "cell_type": "markdown",
   "id": "271c45cf-e40c-417c-a83e-03b375add143",
   "metadata": {},
   "source": [
    "# Dependency"
   ]
  },
  {
   "cell_type": "code",
   "execution_count": null,
   "id": "8bbd76d2-6c8b-4901-896e-85c3a298082a",
   "metadata": {},
   "outputs": [],
   "source": [
    "import numpy as np\n",
    "import math\n",
    "\n",
    "from sklearn import metrics\n",
    "from sklearn.metrics import roc_curve\n",
    "from sklearn.model_selection import KFold\n",
    "\n",
    "\n",
    "import gc\n",
    "\n",
    "import loading_function as load_data\n",
    "import MCNN "
   ]
  },
  {
   "cell_type": "markdown",
   "id": "0b1e9da3-3fb9-4ed6-a197-380544b91cf7",
   "metadata": {
    "tags": []
   },
   "source": [
    "# PARAM"
   ]
  },
  {
   "cell_type": "code",
   "execution_count": null,
   "id": "0851d5dd-21d4-4182-8fa5-2027de0091de",
   "metadata": {},
   "outputs": [],
   "source": [
    "NUM_DEPENDENT =5\n",
    "MAXSEQ = NUM_DEPENDENT*2+1\n",
    "\n",
    "DATA_TYPE = \"ProtTrans\"\n",
    "#\"/BinaryMatrix\" \"/MMseqs2\" \"/ProtTrans\"\n",
    "\n",
    "\n",
    "NUM_FILTER = 256\n",
    "NUM_HIDDEN = 1000#100\n",
    "BATCH_SIZE  = 1024\n",
    "WINDOW_SIZES = [2,4,6,8,10]\n",
    "\n",
    "\n",
    "\n",
    "\n",
    "NUM_CLASSES = 2\n",
    "\n",
    "NUM_FEATURE = 1024\n",
    "EPOCHS      = 30\n",
    "K_Fold = 5\n",
    "VALIDATION_MODE=\"cross\"\n",
    "#\"independent\" \"cross\"\n",
    "\n"
   ]
  },
  {
   "cell_type": "markdown",
   "id": "56bd6e30-ad98-4e37-a76e-92cd7a39cfc6",
   "metadata": {},
   "source": [
    "# Main"
   ]
  },
  {
   "cell_type": "code",
   "execution_count": null,
   "id": "767da2b2-407b-45ab-8840-8056249aa086",
   "metadata": {},
   "outputs": [],
   "source": [
    "# Example usage:\n",
    "x_train, y_train,x_test, y_test = load_data.MCNN_data_load(DATA_TYPE,NUM_CLASSES,NUM_DEPENDENT)"
   ]
  },
  {
   "cell_type": "code",
   "execution_count": null,
   "id": "e14f0a3d-be25-4106-a4b1-a4bee9f1aab0",
   "metadata": {},
   "outputs": [],
   "source": [
    "def model_test(model, x_test, y_test):\n",
    "    \n",
    "    print(x_test.shape)\n",
    "    pred_test = model.predict(x_test)\n",
    "    fpr, tpr, thresholds = roc_curve(y_test[:,1], pred_test[:, 1])\n",
    "    AUC = metrics.auc(fpr, tpr)\n",
    "\n",
    "    gmeans = np.sqrt(tpr * (1-fpr))\n",
    "    ix = np.argmax(gmeans)\n",
    "    #print(f'Best Threshold={thresholds[ix]}, G-Mean={gmeans[ix]}')\n",
    "    threshold = thresholds[ix]\n",
    "    y_pred = (pred_test[:, 1] >= threshold).astype(int)\n",
    "\n",
    "    TN, FP, FN, TP =  metrics.confusion_matrix(y_test[0:][:,1], y_pred).ravel()\n",
    "\n",
    "    Sens = TP/(TP+FN) if TP+FN > 0 else 0.0\n",
    "    Spec = TN/(FP+TN) if FP+TN > 0 else 0.0\n",
    "    Acc = (TP+TN)/(TP+FP+TN+FN)\n",
    "    MCC = (TP*TN-FP*FN)/math.sqrt((TP+FP)*(TP+FN)*(TN+FP)*(TN+FN)) if TP+FP > 0 and FP+TN > 0 and TP+FN and TN+FN else 0.0\n",
    "   \n",
    "    return TP,FP,TN,FN,Sens,Spec,Acc,MCC,AUC,fpr,tpr,thresholds[ix],gmeans[ix]"
   ]
  },
  {
   "cell_type": "code",
   "execution_count": null,
   "id": "ea27b05c-1847-4184-89e0-6a99dc8f1432",
   "metadata": {},
   "outputs": [],
   "source": [
    "if(VALIDATION_MODE==\"cross\"):\n",
    "\t\n",
    "\tkfold = KFold(n_splits = K_Fold, shuffle = True, random_state = 2)\n",
    "\tresults=[]\n",
    "\ti=1\n",
    "\tfor train_index, test_index in kfold.split(x_train):\n",
    "\t\tprint(i,\"/\",K_Fold,'\\n')\n",
    "\t\n",
    "\t\tX_train, X_test = x_train[train_index], x_train[test_index]\n",
    "\t\tY_train, Y_test = y_train[train_index], y_train[test_index]\n",
    "\t\n",
    "\t\tmodel = MCNN.DeepScan(\n",
    "            num_class=NUM_CLASSES,\n",
    "            maxseq=MAXSEQ,\n",
    "            input_shape=(1, MAXSEQ, NUM_FEATURE),\n",
    "    \t\tnum_filters=NUM_FILTER,\n",
    "\t\t\tnum_hidden=NUM_HIDDEN,\n",
    "\t\t\twindow_sizes=WINDOW_SIZES)\n",
    "\t\tmodel.compile(optimizer='adam', loss='categorical_crossentropy', metrics=['accuracy'])\n",
    "\t\tmodel.build(input_shape=X_train.shape)\n",
    "\t\tmodel.summary()\n",
    "\t\thistory=model.fit(\n",
    "\t\t\tX_train,\n",
    "\t\t\tY_train,\n",
    "\t\t\tbatch_size=BATCH_SIZE,\n",
    "\t\t\tepochs=EPOCHS,\n",
    "\t\t\tverbose=0,\n",
    "\t\t\tshuffle=True\n",
    "\t\t)\n",
    "\t\tTP,FP,TN,FN,Sens,Spec,Acc,MCC,AUC,fpr,tpr,thresholds,gmeans = model_test(model, X_test, Y_test)\n",
    "\t\tresults.append([Sens, Spec, Acc, MCC, AUC])\n",
    "\t\ti+=1\n",
    "\t\t\n",
    "\t\tdel X_train\n",
    "\t\tdel X_test\n",
    "\t\tdel Y_train\n",
    "\t\tdel Y_test\n",
    "\t\tgc.collect()\n",
    "\t\t\n",
    "\tmean_results = np.mean(results, axis=0)\n",
    "\tprint(f'Sens={mean_results[0]:.4}, Spec={mean_results[1]:.4}, Acc={mean_results[2]:.4}, MCC={mean_results[3]:.4}, AUC={mean_results[4]:.4}\\n')"
   ]
  },
  {
   "cell_type": "code",
   "execution_count": null,
   "id": "192f1e38-9b4f-4d4e-bed1-1dd89a0fb586",
   "metadata": {},
   "outputs": [],
   "source": [
    "if(VALIDATION_MODE==\"independent\"):\n",
    "\tmodel = MCNN.DeepScan(\n",
    "        num_class=NUM_CLASSES,\n",
    "            maxseq=MAXSEQ,\n",
    "            input_shape=(1, MAXSEQ, NUM_FEATURE),\n",
    "    \t\tnum_filters=NUM_FILTER,\n",
    "\t\t\tnum_hidden=NUM_HIDDEN,\n",
    "\t\t\twindow_sizes=WINDOW_SIZES)\n",
    "\tmodel.compile(optimizer='adam', loss='categorical_crossentropy', metrics=['accuracy'])\n",
    "\tmodel.build(input_shape=x_train.shape)\n",
    "\tmodel.fit(\n",
    "\t\tx_train,\n",
    "\t\ty_train,\n",
    "\t\tbatch_size=BATCH_SIZE,\n",
    "\t\tepochs=EPOCHS,\n",
    "        verbose=0,\n",
    "\t\tshuffle=True\n",
    "    )\n",
    "\tTP,FP,TN,FN,Sens,Spec,Acc,MCC,AUC,fpr,tpr,thresholds,gmeans = model_test(model, x_test, y_test)\n",
    "\tdisplay = metrics.RocCurveDisplay(fpr=fpr, tpr=tpr, roc_auc=AUC, estimator_name='mCNN')\n",
    "\tdisplay.plot()\n",
    "\tprint(f'Best Threshold={thresholds}, G-Mean={gmeans}')\n",
    "\tprint(f'TP={TP}, FP={FP}, TN={TN}, FN={FN}, Sens={Sens:.4f}, Spec={Spec:.4f}, Acc={Acc:.4f}, MCC={MCC:.4f}, AUC={AUC:.4f}\\n')"
   ]
  }
 ],
 "metadata": {
  "kernelspec": {
   "display_name": "Python 3 (ipykernel)",
   "language": "python",
   "name": "python3"
  },
  "language_info": {
   "codemirror_mode": {
    "name": "ipython",
    "version": 3
   },
   "file_extension": ".py",
   "mimetype": "text/x-python",
   "name": "python",
   "nbconvert_exporter": "python",
   "pygments_lexer": "ipython3",
   "version": "3.9.17"
  }
 },
 "nbformat": 4,
 "nbformat_minor": 5
}
