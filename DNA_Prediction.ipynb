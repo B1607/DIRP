{
 "cells": [
  {
   "cell_type": "markdown",
   "id": "5d97a43b-a602-42fd-8cfb-b05f8605dd9d",
   "metadata": {},
   "source": [
    "# The Prediction of DNA Interacting Residues from Amino Acid Sequences"
   ]
  },
  {
   "cell_type": "code",
   "execution_count": null,
   "id": "8bbd76d2-6c8b-4901-896e-85c3a298082a",
   "metadata": {},
   "outputs": [],
   "source": [
    "import h5py\n",
    "import os\n",
    "import numpy as np\n",
    "import tensorflow as tf\n",
    "from tensorflow.keras import layers,Model\n",
    "import keras\n",
    "\n",
    "\n",
    "from data import get_ProtTrans\n",
    "from dataset import get_dataset_npy"
   ]
  },
  {
   "cell_type": "code",
   "execution_count": null,
   "id": "28623468-332c-4f95-b78c-6ed29d4c1faa",
   "metadata": {},
   "outputs": [],
   "source": [
    "SEQ=input(\"Please input your protein sequence here:\\nFor example : MHHHHHHSSGRENLYFQGSNKKRKRCGVCVPCLRKEPCGACYNCVNRSTSHQICKMRKCEQLKKKRVVPMKG\\n\")\n",
    "#SEQ=\"MHHHHHHSSGRENLYFQGSNKKRKRCGVCVPCLRKEPCGACYNCVNRSTSHQICKMRKCEQLKKKRVVPMKG\""
   ]
  },
  {
   "cell_type": "code",
   "execution_count": null,
   "id": "8fe4510f-307f-49d1-9239-3a1002a6f897",
   "metadata": {},
   "outputs": [],
   "source": [
    "embedding=get_ProtTrans.pred_main(SEQ)\n",
    "testing,labels=get_dataset_npy.pred_main(embedding)\n",
    "labels= tf.keras.utils.to_categorical(labels,2)"
   ]
  },
  {
   "cell_type": "code",
   "execution_count": null,
   "id": "e14f0a3d-be25-4106-a4b1-a4bee9f1aab0",
   "metadata": {},
   "outputs": [],
   "source": [
    "def model_test(model, x_test, y_test):\n",
    "    pred_test = model.predict(x_test)\n",
    "    threshold=0.65 #you can set this parameter by yourself\n",
    "    y_pred = (pred_test[:, 1] >= threshold).astype(int)\n",
    "    return y_pred"
   ]
  },
  {
   "cell_type": "code",
   "execution_count": null,
   "id": "28aa9cbe-3dc7-41a0-af37-8b2baffd372a",
   "metadata": {},
   "outputs": [],
   "source": [
    "model=keras.models.load_model('./model_ProtTrans')\n",
    "pred = model_test(model, testing, labels)\n",
    "pred_str = ''.join(str(p) for p in pred)\n",
    "\n",
    "print(\"\\nAmino acid: \", SEQ)\n",
    "print(\"Prediction: \", pred_str)\n",
    "print(\"*1:means that the prediction of this amino acid is a DNA interacting residues\")\n",
    "print(\"*0:means that the prediction of this amino acid is non a DNA interacting residues\")"
   ]
  }
 ],
 "metadata": {
  "kernelspec": {
   "display_name": "TF",
   "language": "python",
   "name": "tf"
  },
  "language_info": {
   "codemirror_mode": {
    "name": "ipython",
    "version": 3
   },
   "file_extension": ".py",
   "mimetype": "text/x-python",
   "name": "python",
   "nbconvert_exporter": "python",
   "pygments_lexer": "ipython3",
   "version": "3.9.17"
  }
 },
 "nbformat": 4,
 "nbformat_minor": 5
}
